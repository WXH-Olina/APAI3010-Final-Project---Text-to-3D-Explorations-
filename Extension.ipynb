{
  "nbformat": 4,
  "nbformat_minor": 0,
  "metadata": {
    "colab": {
      "provenance": [],
      "machine_shape": "hm",
      "gpuType": "T4"
    },
    "kernelspec": {
      "name": "python3",
      "display_name": "Python 3"
    },
    "language_info": {
      "name": "python"
    },
    "accelerator": "GPU"
  },
  "cells": [
    {
      "cell_type": "markdown",
      "source": [
        "In the first stage, we generate a batch of high-quality 2D\n",
        "images using the input text. <br>\n",
        "For practical implementation, you can either embed the code within the existing stable-dreamfusion model and modify the code in guidance/st_utils.py, or you can write the code separately and use the image and text prompt to train stable-dreamfusion. <br> Here we provide the latter one."
      ],
      "metadata": {
        "id": "TnQ-pYjPIkbO"
      }
    },
    {
      "cell_type": "code",
      "source": [
        "!pip install --upgrade pip\n",
        "!pip install --upgrade diffusers transformers accelerate peft"
      ],
      "metadata": {
        "id": "5Lm5I08tAq6z"
      },
      "execution_count": null,
      "outputs": []
    },
    {
      "cell_type": "code",
      "source": [
        "!mkdir output_image"
      ],
      "metadata": {
        "id": "fnWmpJ_YC3nA"
      },
      "execution_count": null,
      "outputs": []
    },
    {
      "cell_type": "code",
      "source": [
        "import torch\n",
        "from diffusers import LCMScheduler, AutoPipelineForText2Image\n",
        "\n",
        "model_id = \"Lykon/dreamshaper-7\"\n",
        "adapter_id = \"latent-consistency/lcm-lora-sdv1-5\"\n",
        "\n",
        "pipe = AutoPipelineForText2Image.from_pretrained(model_id, torch_dtype=torch.float16, variant=\"fp16\")\n",
        "pipe.scheduler = LCMScheduler.from_config(pipe.scheduler.config)\n",
        "pipe.to(\"cuda\")\n",
        "\n",
        "# load and fuse lcm lora\n",
        "pipe.load_lora_weights(adapter_id)\n",
        "pipe.fuse_lora()\n",
        "\n",
        "\n",
        "prompt = \"Self-portrait oil painting, a beautiful cyborg with golden hair, 8k\"\n",
        "\n",
        "# disable guidance_scale by passing 0\n",
        "for i in range(5):\n",
        "  image = pipe(prompt=prompt, num_inference_steps=4, guidance_scale=0).\n",
        "  image.save(f\"output_image/image_{i}.png\")"
      ],
      "metadata": {
        "id": "vRa4wk4hAs-5"
      },
      "execution_count": null,
      "outputs": []
    },
    {
      "cell_type": "markdown",
      "source": [
        "In the second stage, we use the text and images to create 3D models."
      ],
      "metadata": {
        "id": "-6d8lvyeJUt_"
      }
    },
    {
      "cell_type": "code",
      "source": [
        "%cd /content\n",
        "!unzip stable-dreamfusion_1.zip"
      ],
      "metadata": {
        "colab": {
          "base_uri": "https://localhost:8080/"
        },
        "id": "Lzfd4cJi6UuQ",
        "outputId": "95717170-c1f8-4271-8169-139e8e2de767"
      },
      "execution_count": null,
      "outputs": [
        {
          "output_type": "stream",
          "name": "stdout",
          "text": [
            "/content\n",
            "Archive:  stable-dreamfusion_1.zip\n",
            "   creating: stable-dreamfusion_1/\n",
            "   creating: stable-dreamfusion_1/.git/\n",
            "  inflating: stable-dreamfusion_1/.git/config  \n",
            "  inflating: stable-dreamfusion_1/.git/description  \n",
            "  inflating: stable-dreamfusion_1/.git/HEAD  \n",
            "   creating: stable-dreamfusion_1/.git/hooks/\n",
            "  inflating: stable-dreamfusion_1/.git/hooks/applypatch-msg.sample  \n",
            "  inflating: stable-dreamfusion_1/.git/hooks/commit-msg.sample  \n",
            "  inflating: stable-dreamfusion_1/.git/hooks/fsmonitor-watchman.sample  \n",
            "  inflating: stable-dreamfusion_1/.git/hooks/post-update.sample  \n",
            "  inflating: stable-dreamfusion_1/.git/hooks/pre-applypatch.sample  \n",
            "  inflating: stable-dreamfusion_1/.git/hooks/pre-commit.sample  \n",
            "  inflating: stable-dreamfusion_1/.git/hooks/pre-merge-commit.sample  \n",
            "  inflating: stable-dreamfusion_1/.git/hooks/pre-push.sample  \n",
            "  inflating: stable-dreamfusion_1/.git/hooks/pre-rebase.sample  \n",
            "  inflating: stable-dreamfusion_1/.git/hooks/pre-receive.sample  \n",
            "  inflating: stable-dreamfusion_1/.git/hooks/prepare-commit-msg.sample  \n",
            "  inflating: stable-dreamfusion_1/.git/hooks/push-to-checkout.sample  \n",
            "  inflating: stable-dreamfusion_1/.git/hooks/sendemail-validate.sample  \n",
            "  inflating: stable-dreamfusion_1/.git/hooks/update.sample  \n",
            "  inflating: stable-dreamfusion_1/.git/index  \n",
            "   creating: stable-dreamfusion_1/.git/info/\n",
            "  inflating: stable-dreamfusion_1/.git/info/exclude  \n",
            "   creating: stable-dreamfusion_1/.git/logs/\n",
            "  inflating: stable-dreamfusion_1/.git/logs/HEAD  \n",
            "   creating: stable-dreamfusion_1/.git/logs/refs/\n",
            "   creating: stable-dreamfusion_1/.git/logs/refs/heads/\n",
            "  inflating: stable-dreamfusion_1/.git/logs/refs/heads/main  \n",
            "   creating: stable-dreamfusion_1/.git/logs/refs/remotes/\n",
            "   creating: stable-dreamfusion_1/.git/logs/refs/remotes/origin/\n",
            "  inflating: stable-dreamfusion_1/.git/logs/refs/remotes/origin/HEAD  \n",
            "   creating: stable-dreamfusion_1/.git/objects/\n",
            "   creating: stable-dreamfusion_1/.git/objects/info/\n",
            "   creating: stable-dreamfusion_1/.git/objects/pack/\n",
            "  inflating: stable-dreamfusion_1/.git/objects/pack/pack-5a39bc5c4fba21c0de45b86786cc612ab8cb61e9.idx  \n",
            "  inflating: stable-dreamfusion_1/.git/objects/pack/pack-5a39bc5c4fba21c0de45b86786cc612ab8cb61e9.pack  \n",
            "  inflating: stable-dreamfusion_1/.git/objects/pack/pack-5a39bc5c4fba21c0de45b86786cc612ab8cb61e9.rev  \n",
            "  inflating: stable-dreamfusion_1/.git/packed-refs  \n",
            "   creating: stable-dreamfusion_1/.git/refs/\n",
            "   creating: stable-dreamfusion_1/.git/refs/heads/\n",
            "  inflating: stable-dreamfusion_1/.git/refs/heads/main  \n",
            "   creating: stable-dreamfusion_1/.git/refs/remotes/\n",
            "   creating: stable-dreamfusion_1/.git/refs/remotes/origin/\n",
            "  inflating: stable-dreamfusion_1/.git/refs/remotes/origin/HEAD  \n",
            "   creating: stable-dreamfusion_1/.git/refs/tags/\n",
            "   creating: stable-dreamfusion_1/.github/\n",
            "   creating: stable-dreamfusion_1/.github/ISSUE_TEMPLATE/\n",
            "  inflating: stable-dreamfusion_1/.github/ISSUE_TEMPLATE/bug_report.yaml  \n",
            "  inflating: stable-dreamfusion_1/.github/ISSUE_TEMPLATE/feature_request.md  \n",
            "  inflating: stable-dreamfusion_1/.gitignore  \n",
            "  inflating: stable-dreamfusion_1/activation.py  \n",
            "   creating: stable-dreamfusion_1/assets/\n",
            "  inflating: stable-dreamfusion_1/assets/advanced.md  \n",
            "  inflating: stable-dreamfusion_1/assets/update_logs.md  \n",
            "   creating: stable-dreamfusion_1/config/\n",
            "  inflating: stable-dreamfusion_1/config/anya.csv  \n",
            "  inflating: stable-dreamfusion_1/config/car.csv  \n",
            "  inflating: stable-dreamfusion_1/config/corgi.csv  \n",
            "   creating: stable-dreamfusion_1/data/\n",
            "  inflating: stable-dreamfusion_1/data/anya_back.webp  \n",
            "  inflating: stable-dreamfusion_1/data/anya_back_depth.png  \n",
            "  inflating: stable-dreamfusion_1/data/anya_back_normal.png  \n",
            "  inflating: stable-dreamfusion_1/data/anya_back_rgba.png  \n",
            "  inflating: stable-dreamfusion_1/data/anya_front.jpg  \n",
            "  inflating: stable-dreamfusion_1/data/anya_front.png  \n",
            "  inflating: stable-dreamfusion_1/data/anya_front_depth.png  \n",
            "  inflating: stable-dreamfusion_1/data/anya_front_normal.png  \n",
            "  inflating: stable-dreamfusion_1/data/anya_front_rgba.png  \n",
            "  inflating: stable-dreamfusion_1/data/baby_phoenix_on_ice.png  \n",
            "  inflating: stable-dreamfusion_1/data/beach_house_1.png  \n",
            "  inflating: stable-dreamfusion_1/data/beach_house_2.png  \n",
            "  inflating: stable-dreamfusion_1/data/bollywood_actress.png  \n",
            "  inflating: stable-dreamfusion_1/data/cactus.png  \n",
            "  inflating: stable-dreamfusion_1/data/cactus_depth.png  \n",
            "  inflating: stable-dreamfusion_1/data/cactus_normal.png  \n",
            "  inflating: stable-dreamfusion_1/data/cactus_rgba.png  \n",
            "  inflating: stable-dreamfusion_1/data/cake.png  \n",
            "  inflating: stable-dreamfusion_1/data/cake_depth.png  \n",
            "  inflating: stable-dreamfusion_1/data/cake_normal.png  \n",
            "  inflating: stable-dreamfusion_1/data/cake_rgba.png  \n",
            "  inflating: stable-dreamfusion_1/data/car_back.jpg  \n",
            "  inflating: stable-dreamfusion_1/data/car_front.jpg  \n",
            "  inflating: stable-dreamfusion_1/data/car_left.jpg  \n",
            "  inflating: stable-dreamfusion_1/data/car_right.jpg  \n",
            "  inflating: stable-dreamfusion_1/data/catstatue.png  \n",
            "  inflating: stable-dreamfusion_1/data/catstatue_depth.png  \n",
            "  inflating: stable-dreamfusion_1/data/catstatue_normal.png  \n",
            "  inflating: stable-dreamfusion_1/data/catstatue_rgba.png  \n",
            "  inflating: stable-dreamfusion_1/data/church_ruins.png  \n",
            "  inflating: stable-dreamfusion_1/data/corgi_puppy_sitting_looking_up.jpg  \n",
            "  inflating: stable-dreamfusion_1/data/firekeeper.jpg  \n",
            "  inflating: stable-dreamfusion_1/data/firekeeper_depth.png  \n",
            "  inflating: stable-dreamfusion_1/data/firekeeper_normal.png  \n",
            "  inflating: stable-dreamfusion_1/data/firekeeper_rgba.png  \n",
            "  inflating: stable-dreamfusion_1/data/futuristic_car.png  \n",
            "  inflating: stable-dreamfusion_1/data/hamburger.png  \n",
            "  inflating: stable-dreamfusion_1/data/hamburger_depth.png  \n",
            "  inflating: stable-dreamfusion_1/data/hamburger_normal.png  \n",
            "  inflating: stable-dreamfusion_1/data/hamburger_rgba.png  \n",
            "  inflating: stable-dreamfusion_1/data/mona_lisa.png  \n",
            "  inflating: stable-dreamfusion_1/data/teddy.png  \n",
            "  inflating: stable-dreamfusion_1/data/teddy_depth.png  \n",
            "  inflating: stable-dreamfusion_1/data/teddy_normal.png  \n",
            "  inflating: stable-dreamfusion_1/data/teddy_rgba.png  \n",
            "   creating: stable-dreamfusion_1/docker/\n",
            "  inflating: stable-dreamfusion_1/docker/Dockerfile  \n",
            "  inflating: stable-dreamfusion_1/docker/README.md  \n",
            "  inflating: stable-dreamfusion_1/dpt.py  \n",
            "  inflating: stable-dreamfusion_1/encoding.py  \n",
            "   creating: stable-dreamfusion_1/evaluation/\n",
            "  inflating: stable-dreamfusion_1/evaluation/mesh_to_video.py  \n",
            "  inflating: stable-dreamfusion_1/evaluation/Prompt.py  \n",
            "  inflating: stable-dreamfusion_1/evaluation/readme.md  \n",
            "  inflating: stable-dreamfusion_1/evaluation/r_precision.py  \n",
            "   creating: stable-dreamfusion_1/freqencoder/\n",
            "  inflating: stable-dreamfusion_1/freqencoder/backend.py  \n",
            "  inflating: stable-dreamfusion_1/freqencoder/freq.py  \n",
            "  inflating: stable-dreamfusion_1/freqencoder/setup.py  \n",
            "   creating: stable-dreamfusion_1/freqencoder/src/\n",
            "  inflating: stable-dreamfusion_1/freqencoder/src/bindings.cpp  \n",
            "  inflating: stable-dreamfusion_1/freqencoder/src/freqencoder.cu  \n",
            "  inflating: stable-dreamfusion_1/freqencoder/src/freqencoder.h  \n",
            "  inflating: stable-dreamfusion_1/freqencoder/__init__.py  \n",
            "   creating: stable-dreamfusion_1/gridencoder/\n",
            "  inflating: stable-dreamfusion_1/gridencoder/backend.py  \n",
            "  inflating: stable-dreamfusion_1/gridencoder/grid.py  \n",
            "  inflating: stable-dreamfusion_1/gridencoder/setup.py  \n",
            "   creating: stable-dreamfusion_1/gridencoder/src/\n",
            "  inflating: stable-dreamfusion_1/gridencoder/src/bindings.cpp  \n",
            "  inflating: stable-dreamfusion_1/gridencoder/src/gridencoder.cu  \n",
            "  inflating: stable-dreamfusion_1/gridencoder/src/gridencoder.h  \n",
            "  inflating: stable-dreamfusion_1/gridencoder/__init__.py  \n",
            "   creating: stable-dreamfusion_1/guidance/\n",
            "  inflating: stable-dreamfusion_1/guidance/clip_utils.py  \n",
            "  inflating: stable-dreamfusion_1/guidance/if_utils.py  \n",
            "  inflating: stable-dreamfusion_1/guidance/perpneg_utils.py  \n",
            "  inflating: stable-dreamfusion_1/guidance/sd_utils.py  \n",
            "  inflating: stable-dreamfusion_1/guidance/zero123_utils.py  \n",
            "  inflating: stable-dreamfusion_1/guidance.zip  \n",
            "   creating: stable-dreamfusion_1/ldm/\n",
            "  inflating: stable-dreamfusion_1/ldm/extras.py  \n",
            "  inflating: stable-dreamfusion_1/ldm/guidance.py  \n",
            "  inflating: stable-dreamfusion_1/ldm/lr_scheduler.py  \n",
            "   creating: stable-dreamfusion_1/ldm/models/\n",
            "  inflating: stable-dreamfusion_1/ldm/models/autoencoder.py  \n",
            "   creating: stable-dreamfusion_1/ldm/models/diffusion/\n",
            "  inflating: stable-dreamfusion_1/ldm/models/diffusion/classifier.py  \n",
            "  inflating: stable-dreamfusion_1/ldm/models/diffusion/ddim.py  \n",
            "  inflating: stable-dreamfusion_1/ldm/models/diffusion/ddpm.py  \n",
            "  inflating: stable-dreamfusion_1/ldm/models/diffusion/plms.py  \n",
            "  inflating: stable-dreamfusion_1/ldm/models/diffusion/sampling_util.py  \n",
            "  inflating: stable-dreamfusion_1/ldm/models/diffusion/__init__.py  \n",
            "   creating: stable-dreamfusion_1/ldm/modules/\n",
            "  inflating: stable-dreamfusion_1/ldm/modules/attention.py  \n",
            "   creating: stable-dreamfusion_1/ldm/modules/diffusionmodules/\n",
            "  inflating: stable-dreamfusion_1/ldm/modules/diffusionmodules/model.py  \n",
            "  inflating: stable-dreamfusion_1/ldm/modules/diffusionmodules/openaimodel.py  \n",
            "  inflating: stable-dreamfusion_1/ldm/modules/diffusionmodules/util.py  \n",
            "  inflating: stable-dreamfusion_1/ldm/modules/diffusionmodules/__init__.py  \n",
            "   creating: stable-dreamfusion_1/ldm/modules/distributions/\n",
            "  inflating: stable-dreamfusion_1/ldm/modules/distributions/distributions.py  \n",
            "  inflating: stable-dreamfusion_1/ldm/modules/distributions/__init__.py  \n",
            "  inflating: stable-dreamfusion_1/ldm/modules/ema.py  \n",
            "   creating: stable-dreamfusion_1/ldm/modules/encoders/\n",
            "  inflating: stable-dreamfusion_1/ldm/modules/encoders/modules.py  \n",
            "  inflating: stable-dreamfusion_1/ldm/modules/encoders/__init__.py  \n",
            "   creating: stable-dreamfusion_1/ldm/modules/evaluate/\n",
            "  inflating: stable-dreamfusion_1/ldm/modules/evaluate/adm_evaluator.py  \n",
            "  inflating: stable-dreamfusion_1/ldm/modules/evaluate/evaluate_perceptualsim.py  \n",
            "  inflating: stable-dreamfusion_1/ldm/modules/evaluate/frechet_video_distance.py  \n",
            "  inflating: stable-dreamfusion_1/ldm/modules/evaluate/ssim.py  \n",
            "  inflating: stable-dreamfusion_1/ldm/modules/evaluate/torch_frechet_video_distance.py  \n",
            "   creating: stable-dreamfusion_1/ldm/modules/image_degradation/\n",
            "  inflating: stable-dreamfusion_1/ldm/modules/image_degradation/bsrgan.py  \n",
            "  inflating: stable-dreamfusion_1/ldm/modules/image_degradation/bsrgan_light.py  \n",
            "   creating: stable-dreamfusion_1/ldm/modules/image_degradation/utils/\n",
            "  inflating: stable-dreamfusion_1/ldm/modules/image_degradation/utils/test.png  \n",
            "  inflating: stable-dreamfusion_1/ldm/modules/image_degradation/utils_image.py  \n",
            "  inflating: stable-dreamfusion_1/ldm/modules/image_degradation/__init__.py  \n",
            "   creating: stable-dreamfusion_1/ldm/modules/losses/\n",
            "  inflating: stable-dreamfusion_1/ldm/modules/losses/contperceptual.py  \n",
            "  inflating: stable-dreamfusion_1/ldm/modules/losses/vqperceptual.py  \n",
            "  inflating: stable-dreamfusion_1/ldm/modules/losses/__init__.py  \n",
            "  inflating: stable-dreamfusion_1/ldm/modules/x_transformer.py  \n",
            "   creating: stable-dreamfusion_1/ldm/thirdp/\n",
            "   creating: stable-dreamfusion_1/ldm/thirdp/psp/\n",
            "  inflating: stable-dreamfusion_1/ldm/thirdp/psp/helpers.py  \n",
            "  inflating: stable-dreamfusion_1/ldm/thirdp/psp/id_loss.py  \n",
            "  inflating: stable-dreamfusion_1/ldm/thirdp/psp/model_irse.py  \n",
            "  inflating: stable-dreamfusion_1/ldm/util.py  \n",
            "  inflating: stable-dreamfusion_1/LICENSE  \n",
            "  inflating: stable-dreamfusion_1/main.py  \n",
            "  inflating: stable-dreamfusion_1/meshutils.py  \n",
            "   creating: stable-dreamfusion_1/nerf/\n",
            "  inflating: stable-dreamfusion_1/nerf/gui.py  \n",
            "  inflating: stable-dreamfusion_1/nerf/network.py  \n",
            "  inflating: stable-dreamfusion_1/nerf/network_grid.py  \n",
            "  inflating: stable-dreamfusion_1/nerf/network_grid_taichi.py  \n",
            "  inflating: stable-dreamfusion_1/nerf/network_grid_tcnn.py  \n",
            "  inflating: stable-dreamfusion_1/nerf/provider.py  \n",
            "  inflating: stable-dreamfusion_1/nerf/renderer.py  \n",
            "  inflating: stable-dreamfusion_1/nerf/utils.py  \n",
            "  inflating: stable-dreamfusion_1/optimizer.py  \n",
            "  inflating: stable-dreamfusion_1/preprocess_image.py  \n",
            "   creating: stable-dreamfusion_1/pretrained/\n",
            "   creating: stable-dreamfusion_1/pretrained/zero123/\n",
            "  inflating: stable-dreamfusion_1/pretrained/zero123/sd-objaverse-finetune-c_concat-256.yaml  \n",
            "   creating: stable-dreamfusion_1/raymarching/\n",
            "  inflating: stable-dreamfusion_1/raymarching/backend.py  \n",
            "  inflating: stable-dreamfusion_1/raymarching/raymarching.py  \n",
            "  inflating: stable-dreamfusion_1/raymarching/setup.py  \n",
            "   creating: stable-dreamfusion_1/raymarching/src/\n",
            "  inflating: stable-dreamfusion_1/raymarching/src/bindings.cpp  \n",
            "  inflating: stable-dreamfusion_1/raymarching/src/raymarching.cu  \n",
            "  inflating: stable-dreamfusion_1/raymarching/src/raymarching.h  \n",
            "  inflating: stable-dreamfusion_1/raymarching/__init__.py  \n",
            "  inflating: stable-dreamfusion_1/readme.md  \n",
            "  inflating: stable-dreamfusion_1/requirements.txt  \n",
            "   creating: stable-dreamfusion_1/scripts/\n",
            "  inflating: stable-dreamfusion_1/scripts/install_ext.sh  \n",
            "  inflating: stable-dreamfusion_1/scripts/res64.args  \n",
            "  inflating: stable-dreamfusion_1/scripts/run.sh  \n",
            "  inflating: stable-dreamfusion_1/scripts/run2.sh  \n",
            "  inflating: stable-dreamfusion_1/scripts/run3.sh  \n",
            "  inflating: stable-dreamfusion_1/scripts/run4.sh  \n",
            "  inflating: stable-dreamfusion_1/scripts/run5.sh  \n",
            "  inflating: stable-dreamfusion_1/scripts/run6.sh  \n",
            "  inflating: stable-dreamfusion_1/scripts/run_if.sh  \n",
            "  inflating: stable-dreamfusion_1/scripts/run_if2.sh  \n",
            "  inflating: stable-dreamfusion_1/scripts/run_if2_perpneg.sh  \n",
            "  inflating: stable-dreamfusion_1/scripts/run_image.sh  \n",
            "  inflating: stable-dreamfusion_1/scripts/run_images.sh  \n",
            "  inflating: stable-dreamfusion_1/scripts/run_image_anya.sh  \n",
            "  inflating: stable-dreamfusion_1/scripts/run_image_hard_examples.sh  \n",
            "  inflating: stable-dreamfusion_1/scripts/run_image_procedure.sh  \n",
            "  inflating: stable-dreamfusion_1/scripts/run_image_text.sh  \n",
            "   creating: stable-dreamfusion_1/shencoder/\n",
            "  inflating: stable-dreamfusion_1/shencoder/backend.py  \n",
            "  inflating: stable-dreamfusion_1/shencoder/setup.py  \n",
            "  inflating: stable-dreamfusion_1/shencoder/sphere_harmonics.py  \n",
            "   creating: stable-dreamfusion_1/shencoder/src/\n",
            "  inflating: stable-dreamfusion_1/shencoder/src/bindings.cpp  \n",
            "  inflating: stable-dreamfusion_1/shencoder/src/shencoder.cu  \n",
            "  inflating: stable-dreamfusion_1/shencoder/src/shencoder.h  \n",
            "  inflating: stable-dreamfusion_1/shencoder/__init__.py  \n",
            "   creating: stable-dreamfusion_1/taichi_modules/\n",
            "  inflating: stable-dreamfusion_1/taichi_modules/hash_encoder.py  \n",
            "  inflating: stable-dreamfusion_1/taichi_modules/intersection.py  \n",
            "  inflating: stable-dreamfusion_1/taichi_modules/ray_march.py  \n",
            "  inflating: stable-dreamfusion_1/taichi_modules/utils.py  \n",
            "  inflating: stable-dreamfusion_1/taichi_modules/volume_render_test.py  \n",
            "  inflating: stable-dreamfusion_1/taichi_modules/volume_train.py  \n",
            "  inflating: stable-dreamfusion_1/taichi_modules/__init__.py  \n",
            "   creating: stable-dreamfusion_1/tets/\n",
            "  inflating: stable-dreamfusion_1/tets/128_tets.npz  \n",
            "  inflating: stable-dreamfusion_1/tets/32_tets.npz  \n",
            "  inflating: stable-dreamfusion_1/tets/64_tets.npz  \n",
            "  inflating: stable-dreamfusion_1/tets/generate_tets.py  \n",
            "  inflating: stable-dreamfusion_1/tets/README.md  \n"
          ]
        }
      ]
    },
    {
      "cell_type": "code",
      "execution_count": null,
      "metadata": {
        "colab": {
          "base_uri": "https://localhost:8080/"
        },
        "id": "nfvD5gvNXAWD",
        "outputId": "65d2cc58-987b-4262-c77c-18180a8e0720"
      },
      "outputs": [
        {
          "output_type": "stream",
          "name": "stdout",
          "text": [
            "Archive:  stable-dreamfusion.zip\n",
            "   creating: stable-dreamfusion/\n",
            "   creating: stable-dreamfusion/.git/\n",
            "  inflating: stable-dreamfusion/.git/config  \n",
            "  inflating: stable-dreamfusion/.git/description  \n",
            "  inflating: stable-dreamfusion/.git/HEAD  \n",
            "   creating: stable-dreamfusion/.git/hooks/\n",
            "  inflating: stable-dreamfusion/.git/hooks/applypatch-msg.sample  \n",
            "  inflating: stable-dreamfusion/.git/hooks/commit-msg.sample  \n",
            "  inflating: stable-dreamfusion/.git/hooks/fsmonitor-watchman.sample  \n",
            "  inflating: stable-dreamfusion/.git/hooks/post-update.sample  \n",
            "  inflating: stable-dreamfusion/.git/hooks/pre-applypatch.sample  \n",
            "  inflating: stable-dreamfusion/.git/hooks/pre-commit.sample  \n",
            "  inflating: stable-dreamfusion/.git/hooks/pre-merge-commit.sample  \n",
            "  inflating: stable-dreamfusion/.git/hooks/pre-push.sample  \n",
            "  inflating: stable-dreamfusion/.git/hooks/pre-rebase.sample  \n",
            "  inflating: stable-dreamfusion/.git/hooks/pre-receive.sample  \n",
            "  inflating: stable-dreamfusion/.git/hooks/prepare-commit-msg.sample  \n",
            "  inflating: stable-dreamfusion/.git/hooks/push-to-checkout.sample  \n",
            "  inflating: stable-dreamfusion/.git/hooks/sendemail-validate.sample  \n",
            "  inflating: stable-dreamfusion/.git/hooks/update.sample  \n",
            "  inflating: stable-dreamfusion/.git/index  \n",
            "   creating: stable-dreamfusion/.git/info/\n",
            "  inflating: stable-dreamfusion/.git/info/exclude  \n",
            "   creating: stable-dreamfusion/.git/logs/\n",
            "  inflating: stable-dreamfusion/.git/logs/HEAD  \n",
            "   creating: stable-dreamfusion/.git/logs/refs/\n",
            "   creating: stable-dreamfusion/.git/logs/refs/heads/\n",
            "  inflating: stable-dreamfusion/.git/logs/refs/heads/main  \n",
            "   creating: stable-dreamfusion/.git/logs/refs/remotes/\n",
            "   creating: stable-dreamfusion/.git/logs/refs/remotes/origin/\n",
            "  inflating: stable-dreamfusion/.git/logs/refs/remotes/origin/HEAD  \n",
            "   creating: stable-dreamfusion/.git/objects/\n",
            "   creating: stable-dreamfusion/.git/objects/info/\n",
            "   creating: stable-dreamfusion/.git/objects/pack/\n",
            "  inflating: stable-dreamfusion/.git/objects/pack/pack-5a39bc5c4fba21c0de45b86786cc612ab8cb61e9.idx  \n",
            "  inflating: stable-dreamfusion/.git/objects/pack/pack-5a39bc5c4fba21c0de45b86786cc612ab8cb61e9.pack  \n",
            "  inflating: stable-dreamfusion/.git/objects/pack/pack-5a39bc5c4fba21c0de45b86786cc612ab8cb61e9.rev  \n",
            "  inflating: stable-dreamfusion/.git/packed-refs  \n",
            "   creating: stable-dreamfusion/.git/refs/\n",
            "   creating: stable-dreamfusion/.git/refs/heads/\n",
            "  inflating: stable-dreamfusion/.git/refs/heads/main  \n",
            "   creating: stable-dreamfusion/.git/refs/remotes/\n",
            "   creating: stable-dreamfusion/.git/refs/remotes/origin/\n",
            "  inflating: stable-dreamfusion/.git/refs/remotes/origin/HEAD  \n",
            "   creating: stable-dreamfusion/.git/refs/tags/\n",
            "   creating: stable-dreamfusion/.github/\n",
            "   creating: stable-dreamfusion/.github/ISSUE_TEMPLATE/\n",
            "  inflating: stable-dreamfusion/.github/ISSUE_TEMPLATE/bug_report.yaml  \n",
            "  inflating: stable-dreamfusion/.github/ISSUE_TEMPLATE/feature_request.md  \n",
            "  inflating: stable-dreamfusion/.gitignore  \n",
            "  inflating: stable-dreamfusion/activation.py  \n",
            "   creating: stable-dreamfusion/assets/\n",
            "  inflating: stable-dreamfusion/assets/advanced.md  \n",
            "  inflating: stable-dreamfusion/assets/update_logs.md  \n",
            "   creating: stable-dreamfusion/config/\n",
            "  inflating: stable-dreamfusion/config/anya.csv  \n",
            "  inflating: stable-dreamfusion/config/car.csv  \n",
            "  inflating: stable-dreamfusion/config/corgi.csv  \n",
            "   creating: stable-dreamfusion/data/\n",
            "  inflating: stable-dreamfusion/data/anya_back.webp  \n",
            "  inflating: stable-dreamfusion/data/anya_back_depth.png  \n",
            "  inflating: stable-dreamfusion/data/anya_back_normal.png  \n",
            "  inflating: stable-dreamfusion/data/anya_back_rgba.png  \n",
            "  inflating: stable-dreamfusion/data/anya_front.jpg  \n",
            "  inflating: stable-dreamfusion/data/anya_front.png  \n",
            "  inflating: stable-dreamfusion/data/anya_front_depth.png  \n",
            "  inflating: stable-dreamfusion/data/anya_front_normal.png  \n",
            "  inflating: stable-dreamfusion/data/anya_front_rgba.png  \n",
            "  inflating: stable-dreamfusion/data/baby_phoenix_on_ice.png  \n",
            "  inflating: stable-dreamfusion/data/beach_house_1.png  \n",
            "  inflating: stable-dreamfusion/data/beach_house_2.png  \n",
            "  inflating: stable-dreamfusion/data/bollywood_actress.png  \n",
            "  inflating: stable-dreamfusion/data/cactus.png  \n",
            "  inflating: stable-dreamfusion/data/cactus_depth.png  \n",
            "  inflating: stable-dreamfusion/data/cactus_normal.png  \n",
            "  inflating: stable-dreamfusion/data/cactus_rgba.png  \n",
            "  inflating: stable-dreamfusion/data/cake.png  \n",
            "  inflating: stable-dreamfusion/data/cake_depth.png  \n",
            "  inflating: stable-dreamfusion/data/cake_normal.png  \n",
            "  inflating: stable-dreamfusion/data/cake_rgba.png  \n",
            "  inflating: stable-dreamfusion/data/car_back.jpg  \n",
            "  inflating: stable-dreamfusion/data/car_front.jpg  \n",
            "  inflating: stable-dreamfusion/data/car_left.jpg  \n",
            "  inflating: stable-dreamfusion/data/car_right.jpg  \n",
            "  inflating: stable-dreamfusion/data/catstatue.png  \n",
            "  inflating: stable-dreamfusion/data/catstatue_depth.png  \n",
            "  inflating: stable-dreamfusion/data/catstatue_normal.png  \n",
            "  inflating: stable-dreamfusion/data/catstatue_rgba.png  \n",
            "  inflating: stable-dreamfusion/data/church_ruins.png  \n",
            "  inflating: stable-dreamfusion/data/corgi_puppy_sitting_looking_up.jpg  \n",
            "  inflating: stable-dreamfusion/data/firekeeper.jpg  \n",
            "  inflating: stable-dreamfusion/data/firekeeper_depth.png  \n",
            "  inflating: stable-dreamfusion/data/firekeeper_normal.png  \n",
            "  inflating: stable-dreamfusion/data/firekeeper_rgba.png  \n",
            "  inflating: stable-dreamfusion/data/futuristic_car.png  \n",
            "  inflating: stable-dreamfusion/data/hamburger.png  \n",
            "  inflating: stable-dreamfusion/data/hamburger_depth.png  \n",
            "  inflating: stable-dreamfusion/data/hamburger_normal.png  \n",
            "  inflating: stable-dreamfusion/data/hamburger_rgba.png  \n",
            "  inflating: stable-dreamfusion/data/mona_lisa.png  \n",
            "  inflating: stable-dreamfusion/data/teddy.png  \n",
            "  inflating: stable-dreamfusion/data/teddy_depth.png  \n",
            "  inflating: stable-dreamfusion/data/teddy_normal.png  \n",
            "  inflating: stable-dreamfusion/data/teddy_rgba.png  \n",
            "   creating: stable-dreamfusion/docker/\n",
            "  inflating: stable-dreamfusion/docker/Dockerfile  \n",
            "  inflating: stable-dreamfusion/docker/README.md  \n",
            "  inflating: stable-dreamfusion/dpt.py  \n",
            "  inflating: stable-dreamfusion/encoding.py  \n",
            "   creating: stable-dreamfusion/evaluation/\n",
            "  inflating: stable-dreamfusion/evaluation/mesh_to_video.py  \n",
            "  inflating: stable-dreamfusion/evaluation/Prompt.py  \n",
            "  inflating: stable-dreamfusion/evaluation/readme.md  \n",
            "  inflating: stable-dreamfusion/evaluation/r_precision.py  \n",
            "   creating: stable-dreamfusion/freqencoder/\n",
            "  inflating: stable-dreamfusion/freqencoder/backend.py  \n",
            "  inflating: stable-dreamfusion/freqencoder/freq.py  \n",
            "  inflating: stable-dreamfusion/freqencoder/setup.py  \n",
            "   creating: stable-dreamfusion/freqencoder/src/\n",
            "  inflating: stable-dreamfusion/freqencoder/src/bindings.cpp  \n",
            "  inflating: stable-dreamfusion/freqencoder/src/freqencoder.cu  \n",
            "  inflating: stable-dreamfusion/freqencoder/src/freqencoder.h  \n",
            "  inflating: stable-dreamfusion/freqencoder/__init__.py  \n",
            "   creating: stable-dreamfusion/gridencoder/\n",
            "  inflating: stable-dreamfusion/gridencoder/backend.py  \n",
            "  inflating: stable-dreamfusion/gridencoder/grid.py  \n",
            "  inflating: stable-dreamfusion/gridencoder/setup.py  \n",
            "   creating: stable-dreamfusion/gridencoder/src/\n",
            "  inflating: stable-dreamfusion/gridencoder/src/bindings.cpp  \n",
            "  inflating: stable-dreamfusion/gridencoder/src/gridencoder.cu  \n",
            "  inflating: stable-dreamfusion/gridencoder/src/gridencoder.h  \n",
            "  inflating: stable-dreamfusion/gridencoder/__init__.py  \n",
            "   creating: stable-dreamfusion/guidance/\n",
            "  inflating: stable-dreamfusion/guidance/clip_utils.py  \n",
            "  inflating: stable-dreamfusion/guidance/if_utils.py  \n",
            "  inflating: stable-dreamfusion/guidance/perpneg_utils.py  \n",
            "  inflating: stable-dreamfusion/guidance/sd_utils.py  \n",
            "  inflating: stable-dreamfusion/guidance/zero123_utils.py  \n",
            "   creating: stable-dreamfusion/ldm/\n",
            "  inflating: stable-dreamfusion/ldm/extras.py  \n",
            "  inflating: stable-dreamfusion/ldm/guidance.py  \n",
            "  inflating: stable-dreamfusion/ldm/lr_scheduler.py  \n",
            "   creating: stable-dreamfusion/ldm/models/\n",
            "  inflating: stable-dreamfusion/ldm/models/autoencoder.py  \n",
            "   creating: stable-dreamfusion/ldm/models/diffusion/\n",
            "  inflating: stable-dreamfusion/ldm/models/diffusion/classifier.py  \n",
            "  inflating: stable-dreamfusion/ldm/models/diffusion/ddim.py  \n",
            "  inflating: stable-dreamfusion/ldm/models/diffusion/ddpm.py  \n",
            "  inflating: stable-dreamfusion/ldm/models/diffusion/plms.py  \n",
            "  inflating: stable-dreamfusion/ldm/models/diffusion/sampling_util.py  \n",
            "  inflating: stable-dreamfusion/ldm/models/diffusion/__init__.py  \n",
            "   creating: stable-dreamfusion/ldm/modules/\n",
            "  inflating: stable-dreamfusion/ldm/modules/attention.py  \n",
            "   creating: stable-dreamfusion/ldm/modules/diffusionmodules/\n",
            "  inflating: stable-dreamfusion/ldm/modules/diffusionmodules/model.py  \n",
            "  inflating: stable-dreamfusion/ldm/modules/diffusionmodules/openaimodel.py  \n",
            "  inflating: stable-dreamfusion/ldm/modules/diffusionmodules/util.py  \n",
            "  inflating: stable-dreamfusion/ldm/modules/diffusionmodules/__init__.py  \n",
            "   creating: stable-dreamfusion/ldm/modules/distributions/\n",
            "  inflating: stable-dreamfusion/ldm/modules/distributions/distributions.py  \n",
            "  inflating: stable-dreamfusion/ldm/modules/distributions/__init__.py  \n",
            "  inflating: stable-dreamfusion/ldm/modules/ema.py  \n",
            "   creating: stable-dreamfusion/ldm/modules/encoders/\n",
            "  inflating: stable-dreamfusion/ldm/modules/encoders/modules.py  \n",
            "  inflating: stable-dreamfusion/ldm/modules/encoders/__init__.py  \n",
            "   creating: stable-dreamfusion/ldm/modules/evaluate/\n",
            "  inflating: stable-dreamfusion/ldm/modules/evaluate/adm_evaluator.py  \n",
            "  inflating: stable-dreamfusion/ldm/modules/evaluate/evaluate_perceptualsim.py  \n",
            "  inflating: stable-dreamfusion/ldm/modules/evaluate/frechet_video_distance.py  \n",
            "  inflating: stable-dreamfusion/ldm/modules/evaluate/ssim.py  \n",
            "  inflating: stable-dreamfusion/ldm/modules/evaluate/torch_frechet_video_distance.py  \n",
            "   creating: stable-dreamfusion/ldm/modules/image_degradation/\n",
            "  inflating: stable-dreamfusion/ldm/modules/image_degradation/bsrgan.py  \n",
            "  inflating: stable-dreamfusion/ldm/modules/image_degradation/bsrgan_light.py  \n",
            "   creating: stable-dreamfusion/ldm/modules/image_degradation/utils/\n",
            "  inflating: stable-dreamfusion/ldm/modules/image_degradation/utils/test.png  \n",
            "  inflating: stable-dreamfusion/ldm/modules/image_degradation/utils_image.py  \n",
            "  inflating: stable-dreamfusion/ldm/modules/image_degradation/__init__.py  \n",
            "   creating: stable-dreamfusion/ldm/modules/losses/\n",
            "  inflating: stable-dreamfusion/ldm/modules/losses/contperceptual.py  \n",
            "  inflating: stable-dreamfusion/ldm/modules/losses/vqperceptual.py  \n",
            "  inflating: stable-dreamfusion/ldm/modules/losses/__init__.py  \n",
            "  inflating: stable-dreamfusion/ldm/modules/x_transformer.py  \n",
            "   creating: stable-dreamfusion/ldm/thirdp/\n",
            "   creating: stable-dreamfusion/ldm/thirdp/psp/\n",
            "  inflating: stable-dreamfusion/ldm/thirdp/psp/helpers.py  \n",
            "  inflating: stable-dreamfusion/ldm/thirdp/psp/id_loss.py  \n",
            "  inflating: stable-dreamfusion/ldm/thirdp/psp/model_irse.py  \n",
            "  inflating: stable-dreamfusion/ldm/util.py  \n",
            "  inflating: stable-dreamfusion/LICENSE  \n",
            "  inflating: stable-dreamfusion/main.py  \n",
            "  inflating: stable-dreamfusion/meshutils.py  \n",
            "   creating: stable-dreamfusion/nerf/\n",
            "  inflating: stable-dreamfusion/nerf/gui.py  \n",
            "  inflating: stable-dreamfusion/nerf/network.py  \n",
            "  inflating: stable-dreamfusion/nerf/network_grid.py  \n",
            "  inflating: stable-dreamfusion/nerf/network_grid_taichi.py  \n",
            "  inflating: stable-dreamfusion/nerf/network_grid_tcnn.py  \n",
            "  inflating: stable-dreamfusion/nerf/provider.py  \n",
            "  inflating: stable-dreamfusion/nerf/renderer.py  \n",
            "  inflating: stable-dreamfusion/nerf/utils.py  \n",
            "  inflating: stable-dreamfusion/optimizer.py  \n",
            "  inflating: stable-dreamfusion/preprocess_image.py  \n",
            "   creating: stable-dreamfusion/pretrained/\n",
            "   creating: stable-dreamfusion/pretrained/zero123/\n",
            "  inflating: stable-dreamfusion/pretrained/zero123/sd-objaverse-finetune-c_concat-256.yaml  \n",
            "   creating: stable-dreamfusion/raymarching/\n",
            "  inflating: stable-dreamfusion/raymarching/backend.py  \n",
            "  inflating: stable-dreamfusion/raymarching/raymarching.py  \n",
            "  inflating: stable-dreamfusion/raymarching/setup.py  \n",
            "   creating: stable-dreamfusion/raymarching/src/\n",
            "  inflating: stable-dreamfusion/raymarching/src/bindings.cpp  \n",
            "  inflating: stable-dreamfusion/raymarching/src/raymarching.cu  \n",
            "  inflating: stable-dreamfusion/raymarching/src/raymarching.h  \n",
            "  inflating: stable-dreamfusion/raymarching/__init__.py  \n",
            "  inflating: stable-dreamfusion/readme.md  \n",
            "  inflating: stable-dreamfusion/requirements.txt  \n",
            "   creating: stable-dreamfusion/scripts/\n",
            "  inflating: stable-dreamfusion/scripts/install_ext.sh  \n",
            "  inflating: stable-dreamfusion/scripts/res64.args  \n",
            "  inflating: stable-dreamfusion/scripts/run.sh  \n",
            "  inflating: stable-dreamfusion/scripts/run2.sh  \n",
            "  inflating: stable-dreamfusion/scripts/run3.sh  \n",
            "  inflating: stable-dreamfusion/scripts/run4.sh  \n",
            "  inflating: stable-dreamfusion/scripts/run5.sh  \n",
            "  inflating: stable-dreamfusion/scripts/run6.sh  \n",
            "  inflating: stable-dreamfusion/scripts/run_if.sh  \n",
            "  inflating: stable-dreamfusion/scripts/run_if2.sh  \n",
            "  inflating: stable-dreamfusion/scripts/run_if2_perpneg.sh  \n",
            "  inflating: stable-dreamfusion/scripts/run_image.sh  \n",
            "  inflating: stable-dreamfusion/scripts/run_images.sh  \n",
            "  inflating: stable-dreamfusion/scripts/run_image_anya.sh  \n",
            "  inflating: stable-dreamfusion/scripts/run_image_hard_examples.sh  \n",
            "  inflating: stable-dreamfusion/scripts/run_image_procedure.sh  \n",
            "  inflating: stable-dreamfusion/scripts/run_image_text.sh  \n",
            "   creating: stable-dreamfusion/shencoder/\n",
            "  inflating: stable-dreamfusion/shencoder/backend.py  \n",
            "  inflating: stable-dreamfusion/shencoder/setup.py  \n",
            "  inflating: stable-dreamfusion/shencoder/sphere_harmonics.py  \n",
            "   creating: stable-dreamfusion/shencoder/src/\n",
            "  inflating: stable-dreamfusion/shencoder/src/bindings.cpp  \n",
            "  inflating: stable-dreamfusion/shencoder/src/shencoder.cu  \n",
            "  inflating: stable-dreamfusion/shencoder/src/shencoder.h  \n",
            "  inflating: stable-dreamfusion/shencoder/__init__.py  \n",
            "   creating: stable-dreamfusion/taichi_modules/\n",
            "  inflating: stable-dreamfusion/taichi_modules/hash_encoder.py  \n",
            "  inflating: stable-dreamfusion/taichi_modules/intersection.py  \n",
            "  inflating: stable-dreamfusion/taichi_modules/ray_march.py  \n",
            "  inflating: stable-dreamfusion/taichi_modules/utils.py  \n",
            "  inflating: stable-dreamfusion/taichi_modules/volume_render_test.py  \n",
            "  inflating: stable-dreamfusion/taichi_modules/volume_train.py  \n",
            "  inflating: stable-dreamfusion/taichi_modules/__init__.py  \n",
            "   creating: stable-dreamfusion/tets/\n",
            "  inflating: stable-dreamfusion/tets/128_tets.npz  \n",
            "  inflating: stable-dreamfusion/tets/32_tets.npz  \n",
            "  inflating: stable-dreamfusion/tets/64_tets.npz  \n",
            "  inflating: stable-dreamfusion/tets/generate_tets.py  \n",
            "  inflating: stable-dreamfusion/tets/README.md  \n"
          ]
        }
      ],
      "source": [
        "!unzip stable-dreamfusion.zip"
      ]
    },
    {
      "cell_type": "code",
      "source": [
        "%cd /content/stable-dreamfusion/\n",
        "!pip install -r requirements.txt"
      ],
      "metadata": {
        "colab": {
          "base_uri": "https://localhost:8080/"
        },
        "id": "Ph4SQbHbXVxW",
        "outputId": "1ee0e623-f39d-44c9-cbb0-031551bf63cd"
      },
      "execution_count": null,
      "outputs": [
        {
          "output_type": "stream",
          "name": "stdout",
          "text": [
            "/content/stable-dreamfusion\n",
            "Collecting git+https://github.com/NVlabs/nvdiffrast/ (from -r requirements.txt (line 36))\n",
            "  Cloning https://github.com/NVlabs/nvdiffrast/ to /tmp/pip-req-build-br2u02wm\n",
            "  Running command git clone --filter=blob:none --quiet https://github.com/NVlabs/nvdiffrast/ /tmp/pip-req-build-br2u02wm\n",
            "  Resolved https://github.com/NVlabs/nvdiffrast/ to commit 729261dc64c4241ea36efda84fbf532cc8b425b8\n",
            "  Preparing metadata (setup.py) ... \u001b[?25l\u001b[?25hdone\n",
            "Collecting git+https://github.com/openai/CLIP.git (from -r requirements.txt (line 44))\n",
            "  Cloning https://github.com/openai/CLIP.git to /tmp/pip-req-build-qhp_d600\n",
            "  Running command git clone --filter=blob:none --quiet https://github.com/openai/CLIP.git /tmp/pip-req-build-qhp_d600\n",
            "  Resolved https://github.com/openai/CLIP.git to commit dcba3cb2e2827b402d2701e7e1c7d9fed8a20ef1\n",
            "  Preparing metadata (setup.py) ... \u001b[?25l\u001b[?25hdone\n",
            "Requirement already satisfied: tqdm in /usr/local/lib/python3.11/dist-packages (from -r requirements.txt (line 1)) (4.67.1)\n",
            "Requirement already satisfied: rich in /usr/local/lib/python3.11/dist-packages (from -r requirements.txt (line 2)) (13.9.4)\n",
            "Requirement already satisfied: ninja in /usr/local/lib/python3.11/dist-packages (from -r requirements.txt (line 3)) (1.11.1.4)\n",
            "Requirement already satisfied: numpy in /usr/local/lib/python3.11/dist-packages (from -r requirements.txt (line 4)) (2.0.2)\n",
            "Requirement already satisfied: pandas in /usr/local/lib/python3.11/dist-packages (from -r requirements.txt (line 5)) (2.2.2)\n",
            "Requirement already satisfied: scipy in /usr/local/lib/python3.11/dist-packages (from -r requirements.txt (line 6)) (1.14.1)\n",
            "Requirement already satisfied: scikit-learn in /usr/local/lib/python3.11/dist-packages (from -r requirements.txt (line 7)) (1.6.1)\n",
            "Requirement already satisfied: matplotlib in /usr/local/lib/python3.11/dist-packages (from -r requirements.txt (line 8)) (3.10.0)\n",
            "Requirement already satisfied: opencv-python in /usr/local/lib/python3.11/dist-packages (from -r requirements.txt (line 9)) (4.11.0.86)\n",
            "Requirement already satisfied: imageio in /usr/local/lib/python3.11/dist-packages (from -r requirements.txt (line 10)) (2.37.0)\n",
            "Requirement already satisfied: imageio-ffmpeg in /usr/local/lib/python3.11/dist-packages (from -r requirements.txt (line 11)) (0.6.0)\n",
            "Requirement already satisfied: torch in /usr/local/lib/python3.11/dist-packages (from -r requirements.txt (line 13)) (2.6.0)\n",
            "Requirement already satisfied: torch-ema in /usr/local/lib/python3.11/dist-packages (from -r requirements.txt (line 14)) (0.3)\n",
            "Requirement already satisfied: einops in /usr/local/lib/python3.11/dist-packages (from -r requirements.txt (line 15)) (0.8.1)\n",
            "Requirement already satisfied: tensorboard in /usr/local/lib/python3.11/dist-packages (from -r requirements.txt (line 16)) (2.18.0)\n",
            "Requirement already satisfied: tensorboardX in /usr/local/lib/python3.11/dist-packages (from -r requirements.txt (line 17)) (2.6.2.2)\n",
            "Requirement already satisfied: dearpygui in /usr/local/lib/python3.11/dist-packages (from -r requirements.txt (line 20)) (2.0.0)\n",
            "Requirement already satisfied: huggingface_hub in /usr/local/lib/python3.11/dist-packages (from -r requirements.txt (line 26)) (0.30.2)\n",
            "Requirement already satisfied: diffusers>=0.9.0 in /usr/local/lib/python3.11/dist-packages (from -r requirements.txt (line 27)) (0.32.2)\n",
            "Requirement already satisfied: accelerate in /usr/local/lib/python3.11/dist-packages (from -r requirements.txt (line 28)) (1.5.2)\n",
            "Requirement already satisfied: transformers in /usr/local/lib/python3.11/dist-packages (from -r requirements.txt (line 29)) (4.51.3)\n",
            "Requirement already satisfied: xatlas in /usr/local/lib/python3.11/dist-packages (from -r requirements.txt (line 32)) (0.0.10)\n",
            "Requirement already satisfied: trimesh in /usr/local/lib/python3.11/dist-packages (from -r requirements.txt (line 33)) (4.6.8)\n",
            "Requirement already satisfied: PyMCubes in /usr/local/lib/python3.11/dist-packages (from -r requirements.txt (line 34)) (0.1.6)\n",
            "Requirement already satisfied: pymeshlab in /usr/local/lib/python3.11/dist-packages (from -r requirements.txt (line 35)) (2023.12.post3)\n",
            "Requirement already satisfied: carvekit-colab in /usr/local/lib/python3.11/dist-packages (from -r requirements.txt (line 39)) (4.1.2)\n",
            "Requirement already satisfied: omegaconf in /usr/local/lib/python3.11/dist-packages (from -r requirements.txt (line 40)) (2.3.0)\n",
            "Requirement already satisfied: pytorch-lightning in /usr/local/lib/python3.11/dist-packages (from -r requirements.txt (line 41)) (2.5.1.post0)\n",
            "Requirement already satisfied: taming-transformers-rom1504 in /usr/local/lib/python3.11/dist-packages (from -r requirements.txt (line 42)) (0.0.6)\n",
            "Requirement already satisfied: kornia in /usr/local/lib/python3.11/dist-packages (from -r requirements.txt (line 43)) (0.8.0)\n",
            "Requirement already satisfied: gdown in /usr/local/lib/python3.11/dist-packages (from -r requirements.txt (line 47)) (5.2.0)\n",
            "Requirement already satisfied: timm in /usr/local/lib/python3.11/dist-packages (from -r requirements.txt (line 50)) (1.0.15)\n",
            "Requirement already satisfied: debugpy-run in /usr/local/lib/python3.11/dist-packages (from -r requirements.txt (line 53)) (1.13)\n",
            "Requirement already satisfied: sentencepiece in /usr/local/lib/python3.11/dist-packages (from -r requirements.txt (line 56)) (0.2.0)\n",
            "Requirement already satisfied: markdown-it-py>=2.2.0 in /usr/local/lib/python3.11/dist-packages (from rich->-r requirements.txt (line 2)) (3.0.0)\n",
            "Requirement already satisfied: pygments<3.0.0,>=2.13.0 in /usr/local/lib/python3.11/dist-packages (from rich->-r requirements.txt (line 2)) (2.18.0)\n",
            "Requirement already satisfied: python-dateutil>=2.8.2 in /usr/local/lib/python3.11/dist-packages (from pandas->-r requirements.txt (line 5)) (2.8.2)\n",
            "Requirement already satisfied: pytz>=2020.1 in /usr/local/lib/python3.11/dist-packages (from pandas->-r requirements.txt (line 5)) (2025.2)\n",
            "Requirement already satisfied: tzdata>=2022.7 in /usr/local/lib/python3.11/dist-packages (from pandas->-r requirements.txt (line 5)) (2025.2)\n",
            "Requirement already satisfied: joblib>=1.2.0 in /usr/local/lib/python3.11/dist-packages (from scikit-learn->-r requirements.txt (line 7)) (1.4.2)\n",
            "Requirement already satisfied: threadpoolctl>=3.1.0 in /usr/local/lib/python3.11/dist-packages (from scikit-learn->-r requirements.txt (line 7)) (3.6.0)\n",
            "Requirement already satisfied: contourpy>=1.0.1 in /usr/local/lib/python3.11/dist-packages (from matplotlib->-r requirements.txt (line 8)) (1.3.2)\n",
            "Requirement already satisfied: cycler>=0.10 in /usr/local/lib/python3.11/dist-packages (from matplotlib->-r requirements.txt (line 8)) (0.12.1)\n",
            "Requirement already satisfied: fonttools>=4.22.0 in /usr/local/lib/python3.11/dist-packages (from matplotlib->-r requirements.txt (line 8)) (4.57.0)\n",
            "Requirement already satisfied: kiwisolver>=1.3.1 in /usr/local/lib/python3.11/dist-packages (from matplotlib->-r requirements.txt (line 8)) (1.4.8)\n",
            "Requirement already satisfied: packaging>=20.0 in /usr/local/lib/python3.11/dist-packages (from matplotlib->-r requirements.txt (line 8)) (24.2)\n",
            "Requirement already satisfied: pillow>=8 in /usr/local/lib/python3.11/dist-packages (from matplotlib->-r requirements.txt (line 8)) (11.1.0)\n",
            "Requirement already satisfied: pyparsing>=2.3.1 in /usr/local/lib/python3.11/dist-packages (from matplotlib->-r requirements.txt (line 8)) (3.2.3)\n",
            "Requirement already satisfied: filelock in /usr/local/lib/python3.11/dist-packages (from torch->-r requirements.txt (line 13)) (3.18.0)\n",
            "Requirement already satisfied: typing-extensions>=4.10.0 in /usr/local/lib/python3.11/dist-packages (from torch->-r requirements.txt (line 13)) (4.13.2)\n",
            "Requirement already satisfied: networkx in /usr/local/lib/python3.11/dist-packages (from torch->-r requirements.txt (line 13)) (3.4.2)\n",
            "Requirement already satisfied: jinja2 in /usr/local/lib/python3.11/dist-packages (from torch->-r requirements.txt (line 13)) (3.1.6)\n",
            "Requirement already satisfied: fsspec in /usr/local/lib/python3.11/dist-packages (from torch->-r requirements.txt (line 13)) (2025.3.2)\n",
            "Requirement already satisfied: nvidia-cuda-nvrtc-cu12==12.4.127 in /usr/local/lib/python3.11/dist-packages (from torch->-r requirements.txt (line 13)) (12.4.127)\n",
            "Requirement already satisfied: nvidia-cuda-runtime-cu12==12.4.127 in /usr/local/lib/python3.11/dist-packages (from torch->-r requirements.txt (line 13)) (12.4.127)\n",
            "Requirement already satisfied: nvidia-cuda-cupti-cu12==12.4.127 in /usr/local/lib/python3.11/dist-packages (from torch->-r requirements.txt (line 13)) (12.4.127)\n",
            "Requirement already satisfied: nvidia-cudnn-cu12==9.1.0.70 in /usr/local/lib/python3.11/dist-packages (from torch->-r requirements.txt (line 13)) (9.1.0.70)\n",
            "Requirement already satisfied: nvidia-cublas-cu12==12.4.5.8 in /usr/local/lib/python3.11/dist-packages (from torch->-r requirements.txt (line 13)) (12.4.5.8)\n",
            "Requirement already satisfied: nvidia-cufft-cu12==11.2.1.3 in /usr/local/lib/python3.11/dist-packages (from torch->-r requirements.txt (line 13)) (11.2.1.3)\n",
            "Requirement already satisfied: nvidia-curand-cu12==10.3.5.147 in /usr/local/lib/python3.11/dist-packages (from torch->-r requirements.txt (line 13)) (10.3.5.147)\n",
            "Requirement already satisfied: nvidia-cusolver-cu12==11.6.1.9 in /usr/local/lib/python3.11/dist-packages (from torch->-r requirements.txt (line 13)) (11.6.1.9)\n",
            "Requirement already satisfied: nvidia-cusparse-cu12==12.3.1.170 in /usr/local/lib/python3.11/dist-packages (from torch->-r requirements.txt (line 13)) (12.3.1.170)\n",
            "Requirement already satisfied: nvidia-cusparselt-cu12==0.6.2 in /usr/local/lib/python3.11/dist-packages (from torch->-r requirements.txt (line 13)) (0.6.2)\n",
            "Requirement already satisfied: nvidia-nccl-cu12==2.21.5 in /usr/local/lib/python3.11/dist-packages (from torch->-r requirements.txt (line 13)) (2.21.5)\n",
            "Requirement already satisfied: nvidia-nvtx-cu12==12.4.127 in /usr/local/lib/python3.11/dist-packages (from torch->-r requirements.txt (line 13)) (12.4.127)\n",
            "Requirement already satisfied: nvidia-nvjitlink-cu12==12.4.127 in /usr/local/lib/python3.11/dist-packages (from torch->-r requirements.txt (line 13)) (12.4.127)\n",
            "Requirement already satisfied: triton==3.2.0 in /usr/local/lib/python3.11/dist-packages (from torch->-r requirements.txt (line 13)) (3.2.0)\n",
            "Requirement already satisfied: sympy==1.13.1 in /usr/local/lib/python3.11/dist-packages (from torch->-r requirements.txt (line 13)) (1.13.1)\n",
            "Requirement already satisfied: mpmath<1.4,>=1.1.0 in /usr/local/lib/python3.11/dist-packages (from sympy==1.13.1->torch->-r requirements.txt (line 13)) (1.3.0)\n",
            "Requirement already satisfied: absl-py>=0.4 in /usr/local/lib/python3.11/dist-packages (from tensorboard->-r requirements.txt (line 16)) (1.4.0)\n",
            "Requirement already satisfied: grpcio>=1.48.2 in /usr/local/lib/python3.11/dist-packages (from tensorboard->-r requirements.txt (line 16)) (1.71.0)\n",
            "Requirement already satisfied: markdown>=2.6.8 in /usr/local/lib/python3.11/dist-packages (from tensorboard->-r requirements.txt (line 16)) (3.8)\n",
            "Requirement already satisfied: protobuf!=4.24.0,>=3.19.6 in /usr/local/lib/python3.11/dist-packages (from tensorboard->-r requirements.txt (line 16)) (5.29.4)\n",
            "Requirement already satisfied: setuptools>=41.0.0 in /usr/local/lib/python3.11/dist-packages (from tensorboard->-r requirements.txt (line 16)) (75.2.0)\n",
            "Requirement already satisfied: six>1.9 in /usr/local/lib/python3.11/dist-packages (from tensorboard->-r requirements.txt (line 16)) (1.17.0)\n",
            "Requirement already satisfied: tensorboard-data-server<0.8.0,>=0.7.0 in /usr/local/lib/python3.11/dist-packages (from tensorboard->-r requirements.txt (line 16)) (0.7.2)\n",
            "Requirement already satisfied: werkzeug>=1.0.1 in /usr/local/lib/python3.11/dist-packages (from tensorboard->-r requirements.txt (line 16)) (3.1.3)\n",
            "Requirement already satisfied: pyyaml>=5.1 in /usr/local/lib/python3.11/dist-packages (from huggingface_hub->-r requirements.txt (line 26)) (6.0.2)\n",
            "Requirement already satisfied: requests in /usr/local/lib/python3.11/dist-packages (from huggingface_hub->-r requirements.txt (line 26)) (2.32.3)\n",
            "Requirement already satisfied: importlib-metadata in /usr/local/lib/python3.11/dist-packages (from diffusers>=0.9.0->-r requirements.txt (line 27)) (8.6.1)\n",
            "Requirement already satisfied: regex!=2019.12.17 in /usr/local/lib/python3.11/dist-packages (from diffusers>=0.9.0->-r requirements.txt (line 27)) (2024.11.6)\n",
            "Requirement already satisfied: safetensors>=0.3.1 in /usr/local/lib/python3.11/dist-packages (from diffusers>=0.9.0->-r requirements.txt (line 27)) (0.5.3)\n",
            "Requirement already satisfied: psutil in /usr/local/lib/python3.11/dist-packages (from accelerate->-r requirements.txt (line 28)) (5.9.5)\n",
            "Requirement already satisfied: tokenizers<0.22,>=0.21 in /usr/local/lib/python3.11/dist-packages (from transformers->-r requirements.txt (line 29)) (0.21.1)\n",
            "Requirement already satisfied: torchvision in /usr/local/lib/python3.11/dist-packages (from carvekit-colab->-r requirements.txt (line 39)) (0.21.0+cu124)\n",
            "Requirement already satisfied: loguru in /usr/local/lib/python3.11/dist-packages (from carvekit-colab->-r requirements.txt (line 39)) (0.7.3)\n",
            "Requirement already satisfied: uvicorn in /usr/local/lib/python3.11/dist-packages (from carvekit-colab->-r requirements.txt (line 39)) (0.34.2)\n",
            "Requirement already satisfied: fastapi in /usr/local/lib/python3.11/dist-packages (from carvekit-colab->-r requirements.txt (line 39)) (0.115.12)\n",
            "Requirement already satisfied: pydantic in /usr/local/lib/python3.11/dist-packages (from carvekit-colab->-r requirements.txt (line 39)) (2.11.3)\n",
            "Requirement already satisfied: click in /usr/local/lib/python3.11/dist-packages (from carvekit-colab->-r requirements.txt (line 39)) (8.1.8)\n",
            "Requirement already satisfied: aiofiles in /usr/local/lib/python3.11/dist-packages (from carvekit-colab->-r requirements.txt (line 39)) (24.1.0)\n",
            "Requirement already satisfied: python-multipart in /usr/local/lib/python3.11/dist-packages (from carvekit-colab->-r requirements.txt (line 39)) (0.0.20)\n",
            "Requirement already satisfied: antlr4-python3-runtime==4.9.* in /usr/local/lib/python3.11/dist-packages (from omegaconf->-r requirements.txt (line 40)) (4.9.3)\n",
            "Requirement already satisfied: torchmetrics>=0.7.0 in /usr/local/lib/python3.11/dist-packages (from pytorch-lightning->-r requirements.txt (line 41)) (1.7.1)\n",
            "Requirement already satisfied: lightning-utilities>=0.10.0 in /usr/local/lib/python3.11/dist-packages (from pytorch-lightning->-r requirements.txt (line 41)) (0.14.3)\n",
            "Requirement already satisfied: kornia_rs>=0.1.0 in /usr/local/lib/python3.11/dist-packages (from kornia->-r requirements.txt (line 43)) (0.1.8)\n",
            "Requirement already satisfied: ftfy in /usr/local/lib/python3.11/dist-packages (from clip==1.0->-r requirements.txt (line 44)) (6.3.1)\n",
            "Requirement already satisfied: beautifulsoup4 in /usr/local/lib/python3.11/dist-packages (from gdown->-r requirements.txt (line 47)) (4.13.4)\n",
            "Requirement already satisfied: debugpy in /usr/local/lib/python3.11/dist-packages (from debugpy-run->-r requirements.txt (line 53)) (1.8.0)\n",
            "Requirement already satisfied: aiohttp!=4.0.0a0,!=4.0.0a1 in /usr/local/lib/python3.11/dist-packages (from fsspec[http]>=2022.5.0->pytorch-lightning->-r requirements.txt (line 41)) (3.11.15)\n",
            "Requirement already satisfied: mdurl~=0.1 in /usr/local/lib/python3.11/dist-packages (from markdown-it-py>=2.2.0->rich->-r requirements.txt (line 2)) (0.1.2)\n",
            "Requirement already satisfied: MarkupSafe>=2.1.1 in /usr/local/lib/python3.11/dist-packages (from werkzeug>=1.0.1->tensorboard->-r requirements.txt (line 16)) (3.0.2)\n",
            "Requirement already satisfied: soupsieve>1.2 in /usr/local/lib/python3.11/dist-packages (from beautifulsoup4->gdown->-r requirements.txt (line 47)) (2.7)\n",
            "Requirement already satisfied: starlette<0.47.0,>=0.40.0 in /usr/local/lib/python3.11/dist-packages (from fastapi->carvekit-colab->-r requirements.txt (line 39)) (0.46.2)\n",
            "Requirement already satisfied: annotated-types>=0.6.0 in /usr/local/lib/python3.11/dist-packages (from pydantic->carvekit-colab->-r requirements.txt (line 39)) (0.7.0)\n",
            "Requirement already satisfied: pydantic-core==2.33.1 in /usr/local/lib/python3.11/dist-packages (from pydantic->carvekit-colab->-r requirements.txt (line 39)) (2.33.1)\n",
            "Requirement already satisfied: typing-inspection>=0.4.0 in /usr/local/lib/python3.11/dist-packages (from pydantic->carvekit-colab->-r requirements.txt (line 39)) (0.4.0)\n",
            "Requirement already satisfied: wcwidth in /usr/local/lib/python3.11/dist-packages (from ftfy->clip==1.0->-r requirements.txt (line 44)) (0.2.13)\n",
            "Requirement already satisfied: zipp>=3.20 in /usr/local/lib/python3.11/dist-packages (from importlib-metadata->diffusers>=0.9.0->-r requirements.txt (line 27)) (3.21.0)\n",
            "Requirement already satisfied: charset-normalizer<4,>=2 in /usr/local/lib/python3.11/dist-packages (from requests->huggingface_hub->-r requirements.txt (line 26)) (3.4.1)\n",
            "Requirement already satisfied: idna<4,>=2.5 in /usr/local/lib/python3.11/dist-packages (from requests->huggingface_hub->-r requirements.txt (line 26)) (3.10)\n",
            "Requirement already satisfied: urllib3<3,>=1.21.1 in /usr/local/lib/python3.11/dist-packages (from requests->huggingface_hub->-r requirements.txt (line 26)) (2.3.0)\n",
            "Requirement already satisfied: certifi>=2017.4.17 in /usr/local/lib/python3.11/dist-packages (from requests->huggingface_hub->-r requirements.txt (line 26)) (2025.1.31)\n",
            "Requirement already satisfied: PySocks!=1.5.7,>=1.5.6 in /usr/local/lib/python3.11/dist-packages (from requests[socks]->gdown->-r requirements.txt (line 47)) (1.7.1)\n",
            "Requirement already satisfied: h11>=0.8 in /usr/local/lib/python3.11/dist-packages (from uvicorn->carvekit-colab->-r requirements.txt (line 39)) (0.14.0)\n",
            "Requirement already satisfied: aiohappyeyeballs>=2.3.0 in /usr/local/lib/python3.11/dist-packages (from aiohttp!=4.0.0a0,!=4.0.0a1->fsspec[http]>=2022.5.0->pytorch-lightning->-r requirements.txt (line 41)) (2.6.1)\n",
            "Requirement already satisfied: aiosignal>=1.1.2 in /usr/local/lib/python3.11/dist-packages (from aiohttp!=4.0.0a0,!=4.0.0a1->fsspec[http]>=2022.5.0->pytorch-lightning->-r requirements.txt (line 41)) (1.3.2)\n",
            "Requirement already satisfied: attrs>=17.3.0 in /usr/local/lib/python3.11/dist-packages (from aiohttp!=4.0.0a0,!=4.0.0a1->fsspec[http]>=2022.5.0->pytorch-lightning->-r requirements.txt (line 41)) (25.3.0)\n",
            "Requirement already satisfied: frozenlist>=1.1.1 in /usr/local/lib/python3.11/dist-packages (from aiohttp!=4.0.0a0,!=4.0.0a1->fsspec[http]>=2022.5.0->pytorch-lightning->-r requirements.txt (line 41)) (1.6.0)\n",
            "Requirement already satisfied: multidict<7.0,>=4.5 in /usr/local/lib/python3.11/dist-packages (from aiohttp!=4.0.0a0,!=4.0.0a1->fsspec[http]>=2022.5.0->pytorch-lightning->-r requirements.txt (line 41)) (6.4.3)\n",
            "Requirement already satisfied: propcache>=0.2.0 in /usr/local/lib/python3.11/dist-packages (from aiohttp!=4.0.0a0,!=4.0.0a1->fsspec[http]>=2022.5.0->pytorch-lightning->-r requirements.txt (line 41)) (0.3.1)\n",
            "Requirement already satisfied: yarl<2.0,>=1.17.0 in /usr/local/lib/python3.11/dist-packages (from aiohttp!=4.0.0a0,!=4.0.0a1->fsspec[http]>=2022.5.0->pytorch-lightning->-r requirements.txt (line 41)) (1.20.0)\n",
            "Requirement already satisfied: anyio<5,>=3.6.2 in /usr/local/lib/python3.11/dist-packages (from starlette<0.47.0,>=0.40.0->fastapi->carvekit-colab->-r requirements.txt (line 39)) (4.9.0)\n",
            "Requirement already satisfied: sniffio>=1.1 in /usr/local/lib/python3.11/dist-packages (from anyio<5,>=3.6.2->starlette<0.47.0,>=0.40.0->fastapi->carvekit-colab->-r requirements.txt (line 39)) (1.3.1)\n"
          ]
        }
      ]
    },
    {
      "cell_type": "code",
      "source": [
        "%cd stable-dreamfusion/\n",
        "!cp -r pretrained ..\n",
        "%cd ..\n",
        "!mv pretrained stable-dreamfusion_1/"
      ],
      "metadata": {
        "colab": {
          "base_uri": "https://localhost:8080/"
        },
        "id": "88HrSn5m6gyJ",
        "outputId": "aed696ed-3bba-4d31-eb98-b252e212d481"
      },
      "execution_count": null,
      "outputs": [
        {
          "output_type": "stream",
          "name": "stdout",
          "text": [
            "/content/stable-dreamfusion\n",
            "/content\n",
            "mv: cannot move 'pretrained' to 'stable-dreamfusion_1/pretrained': Directory not empty\n"
          ]
        }
      ]
    },
    {
      "cell_type": "code",
      "source": [
        "!pwd"
      ],
      "metadata": {
        "colab": {
          "base_uri": "https://localhost:8080/"
        },
        "id": "mdSQOLFX9YCJ",
        "outputId": "0dfdd7e6-0035-4b1c-9dd7-519d9e799e2c"
      },
      "execution_count": null,
      "outputs": [
        {
          "output_type": "stream",
          "name": "stdout",
          "text": [
            "/content/stable-dreamfusion\n"
          ]
        }
      ]
    },
    {
      "cell_type": "code",
      "source": [
        "%cd stable-dreamfusion/pretrained"
      ],
      "metadata": {
        "colab": {
          "base_uri": "https://localhost:8080/"
        },
        "id": "lwroWsfC-FkJ",
        "outputId": "c042a144-1f05-4655-9694-8344cb46f58e"
      },
      "execution_count": null,
      "outputs": [
        {
          "output_type": "stream",
          "name": "stdout",
          "text": [
            "[Errno 2] No such file or directory: 'stable-dreamfusion/pretrained'\n",
            "/content/stable-dreamfusion\n"
          ]
        }
      ]
    },
    {
      "cell_type": "code",
      "source": [
        "%cd zero123\n",
        "!wget https://zero123.cs.columbia.edu/assets/zero123-xl.ckpt"
      ],
      "metadata": {
        "colab": {
          "base_uri": "https://localhost:8080/"
        },
        "id": "NV1g1l2U-era",
        "outputId": "927cace2-6613-49fa-862e-37ecbb32d475"
      },
      "execution_count": null,
      "outputs": [
        {
          "output_type": "stream",
          "name": "stdout",
          "text": [
            "/content/stable-dreamfusion/pretrained/zero123\n",
            "--2025-04-27 08:38:29--  https://zero123.cs.columbia.edu/assets/zero123-xl.ckpt\n",
            "Resolving zero123.cs.columbia.edu (zero123.cs.columbia.edu)... 128.59.16.27\n",
            "Connecting to zero123.cs.columbia.edu (zero123.cs.columbia.edu)|128.59.16.27|:443... connected.\n",
            "HTTP request sent, awaiting response... 200 OK\n",
            "Length: 15465973531 (14G) [application/zip]\n",
            "Saving to: ‘zero123-xl.ckpt’\n",
            "\n",
            "zero123-xl.ckpt     100%[===================>]  14.40G  14.6MB/s    in 17m 12s \n",
            "\n",
            "2025-04-27 08:55:42 (14.3 MB/s) - ‘zero123-xl.ckpt’ saved [15465973531/15465973531]\n",
            "\n"
          ]
        }
      ]
    },
    {
      "cell_type": "code",
      "source": [
        "%cd ..\n",
        "!mkdir omnidata\n",
        "%cd omnidata"
      ],
      "metadata": {
        "colab": {
          "base_uri": "https://localhost:8080/"
        },
        "id": "sWzzh2q6MvPu",
        "outputId": "54982bd6-3ed1-4976-cb35-0441ca662187"
      },
      "execution_count": null,
      "outputs": [
        {
          "output_type": "stream",
          "name": "stdout",
          "text": [
            "/content/stable-dreamfusion\n",
            "/content/stable-dreamfusion/omnidata\n"
          ]
        }
      ]
    },
    {
      "cell_type": "code",
      "source": [
        "%cd /content/stable-dreamfusion/pretrained/omnidata/\n",
        "!gdown '1Jrh-bRnJEjyMCS7f-WsaFlccfPjJPPHI&confirm=t' # omnidata_dpt_depth_v2.ckpt\n",
        "!gdown '1wNxVO4vVbDEMEpnAi_jwQObf2MFodcBR&confirm=t' # omnidata_dpt_normal_v2.ckpt"
      ],
      "metadata": {
        "colab": {
          "base_uri": "https://localhost:8080/"
        },
        "id": "V9r4bjRUei7q",
        "outputId": "ef1c9517-4173-41a0-cc71-bab92fd5758d"
      },
      "execution_count": null,
      "outputs": [
        {
          "output_type": "stream",
          "name": "stdout",
          "text": [
            "/content/stable-dreamfusion/pretrained/omnidata\n",
            "Downloading...\n",
            "From: https://drive.google.com/uc?id=1Jrh-bRnJEjyMCS7f-WsaFlccfPjJPPHI&confirm=t\n",
            "To: /content/stable-dreamfusion/pretrained/omnidata/omnidata_dpt_depth_v2.ckpt\n",
            "100% 1.95G/1.95G [00:36<00:00, 53.7MB/s]\n",
            "Downloading...\n",
            "From: https://drive.google.com/uc?id=1wNxVO4vVbDEMEpnAi_jwQObf2MFodcBR&confirm=t\n",
            "To: /content/stable-dreamfusion/pretrained/omnidata/omnidata_dpt_normal_v2.ckpt\n",
            "100% 1.95G/1.95G [00:32<00:00, 60.1MB/s]\n"
          ]
        }
      ]
    },
    {
      "cell_type": "code",
      "source": [
        "%cd /content/stable-dreamfusion/"
      ],
      "metadata": {
        "colab": {
          "base_uri": "https://localhost:8080/"
        },
        "id": "xAl6mE3AfkJC",
        "outputId": "5d514640-3699-4d00-ce6a-3ee6a198f303"
      },
      "execution_count": null,
      "outputs": [
        {
          "output_type": "stream",
          "name": "stdout",
          "text": [
            "/content/stable-dreamfusion\n"
          ]
        }
      ]
    },
    {
      "cell_type": "code",
      "source": [
        "# Import necessary libraries\n",
        "import os\n",
        "\n",
        "# Loop 5 times\n",
        "for i in range(5):\n",
        "  print(f\"Running iteration {i}\")\n",
        "  # Define the main command with the correct image path\n",
        "  command_1 = f\"!python preprocess_image.py output_image/image_{i}.png\"\n",
        "  os.system(command_1)\n",
        "  command_2 = f\"!python main.py -O --image output_image/image_{i}_rgba.png --workspace f_image --iters 5000\"\n",
        "  os.system(command_2)"
      ],
      "metadata": {
        "id": "mhH_haxQGPAT"
      },
      "execution_count": null,
      "outputs": []
    },
    {
      "cell_type": "markdown",
      "source": [
        "The result can then be found in the folder named by the image."
      ],
      "metadata": {
        "id": "EGR7Wl-PIIfE"
      }
    },
    {
      "cell_type": "markdown",
      "source": [
        "The below are the example using one image. If the loop above doesn't work smoothly, you can try to process images one by one."
      ],
      "metadata": {
        "id": "WzZeJ16RHZO5"
      }
    },
    {
      "cell_type": "code",
      "source": [
        "!python preprocess_image.py f.png"
      ],
      "metadata": {
        "colab": {
          "base_uri": "https://localhost:8080/"
        },
        "id": "p36g5rUeJyv1",
        "outputId": "b3d24b84-17c3-4f46-c759-efa3138f1470"
      },
      "execution_count": null,
      "outputs": [
        {
          "output_type": "stream",
          "name": "stdout",
          "text": [
            "[INFO] loading image...\n",
            "[INFO] background removal...\n",
            "[INFO] depth estimation...\n",
            "/usr/local/lib/python3.11/dist-packages/timm/models/_factory.py:126: UserWarning: Mapping deprecated model name vit_base_resnet50_384 to current vit_base_r50_s16_384.orig_in21k_ft_in1k.\n",
            "  model = create_fn(\n",
            "[INFO] normal estimation...\n",
            "/usr/local/lib/python3.11/dist-packages/timm/models/_factory.py:126: UserWarning: Mapping deprecated model name vit_base_resnet50_384 to current vit_base_r50_s16_384.orig_in21k_ft_in1k.\n",
            "  model = create_fn(\n",
            "[INFO] recenter...\n"
          ]
        }
      ]
    },
    {
      "cell_type": "code",
      "source": [
        "!python main.py -O --image /content/stable-dreamfusion/f_rgba.png --workspace f_image --iters 5000"
      ],
      "metadata": {
        "id": "q6STfzRTi90L"
      },
      "execution_count": null,
      "outputs": []
    }
  ]
}